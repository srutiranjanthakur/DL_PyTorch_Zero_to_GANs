{
  "nbformat": 4,
  "nbformat_minor": 0,
  "metadata": {
    "kernelspec": {
      "display_name": "Python 3",
      "language": "python",
      "name": "python3"
    },
    "language_info": {
      "codemirror_mode": {
        "name": "ipython",
        "version": 3
      },
      "file_extension": ".py",
      "mimetype": "text/x-python",
      "name": "python",
      "nbconvert_exporter": "python",
      "pygments_lexer": "ipython3",
      "version": "3.6.10"
    },
    "colab": {
      "name": "PyTorch_Functions.ipynb",
      "provenance": [],
      "collapsed_sections": []
    }
  },
  "cells": [
    {
      "cell_type": "code",
      "metadata": {
        "id": "WmSyq-BkMUDw"
      },
      "source": [
        "# Jovian Commit Essentials\n",
        "# Please retain and execute this cell without modifying the contents for `jovian.commit` to work\n",
        "!pip install jovian --upgrade -q\n",
        "import jovian\n",
        "jovian.utils.colab.set_colab_file_id('12-siT8STLi7v4y-MA7709Od1XcrowAEc')"
      ],
      "execution_count": null,
      "outputs": []
    },
    {
      "cell_type": "markdown",
      "metadata": {
        "id": "hY9DiLo-MUDx"
      },
      "source": [
        "# PyTorch\n",
        "\n",
        "### An short introduction about PyTorch and about the chosen functions."
      ]
    },
    {
      "cell_type": "markdown",
      "metadata": {
        "id": "ae1BP3JzMUDx"
      },
      "source": [
        "# What is PyTorch?"
      ]
    },
    {
      "cell_type": "markdown",
      "metadata": {
        "id": "u_EvMaHMMUDx"
      },
      "source": [
        "PyTorch is a Python-based scientific computing package that uses the power of graphics processing units(GPU). \n",
        "It is also one of the preferred deep learning research platforms built to provide maximum flexibility and speed. \n",
        "It is known for providing two of the most high-level features:\n",
        "    tensor computations with strong GPU acceleration support \n",
        "    building deep neural networks on a tape-based autograd systems.\n",
        "\n",
        "There are many existing Python libraries which have the potential to change how deep learning and artificial intelligence are performed, and this is one such library. One of the key reasons behind PyTorch’s success is it is completely Pythonic and one can build neural network models effortlessly. It is still a young player when compared to its other competitors, however, it is gaining momentum fast."
      ]
    },
    {
      "cell_type": "markdown",
      "metadata": {
        "id": "iUpy7h8aMUDx"
      },
      "source": [
        "### Install\n",
        "\n",
        "<mark style=\"background-color: Blue\">__In CPU__</mark>\n",
        "\n",
        "__For Windows__\n",
        "\n",
        "* Install PyTorch using conda\n",
        "      conda install pytorch torchvision cpuonly -c pytorch"
      ]
    },
    {
      "cell_type": "code",
      "metadata": {
        "id": "tcfeIU4QMUDx"
      },
      "source": [
        "# Import the torch library\n",
        "import torch"
      ],
      "execution_count": null,
      "outputs": []
    },
    {
      "cell_type": "markdown",
      "metadata": {
        "id": "mSJ9FbYNMUDy"
      },
      "source": [
        "## PyTorch Functions"
      ]
    },
    {
      "cell_type": "markdown",
      "metadata": {
        "id": "-NYarW4HMUDy"
      },
      "source": [
        "### Function 1 - torch.linspace\n",
        "\n",
        "torch.linspace is used to create a 1D equally spaced tensor between the start and end values.\n",
        "We can specify the size of the tensor with the *steps parameters. The default value is 100."
      ]
    },
    {
      "cell_type": "code",
      "metadata": {
        "id": "1-M-X8UNMUDy",
        "outputId": "36dd6f23-6c27-41b8-c064-868b502b8d94"
      },
      "source": [
        "#with out step parameter \n",
        "torch.linspace(1, 5)"
      ],
      "execution_count": null,
      "outputs": [
        {
          "output_type": "execute_result",
          "data": {
            "text/plain": [
              "tensor([1.0000, 1.0404, 1.0808, 1.1212, 1.1616, 1.2020, 1.2424, 1.2828, 1.3232,\n",
              "        1.3636, 1.4040, 1.4444, 1.4848, 1.5253, 1.5657, 1.6061, 1.6465, 1.6869,\n",
              "        1.7273, 1.7677, 1.8081, 1.8485, 1.8889, 1.9293, 1.9697, 2.0101, 2.0505,\n",
              "        2.0909, 2.1313, 2.1717, 2.2121, 2.2525, 2.2929, 2.3333, 2.3737, 2.4141,\n",
              "        2.4545, 2.4949, 2.5354, 2.5758, 2.6162, 2.6566, 2.6970, 2.7374, 2.7778,\n",
              "        2.8182, 2.8586, 2.8990, 2.9394, 2.9798, 3.0202, 3.0606, 3.1010, 3.1414,\n",
              "        3.1818, 3.2222, 3.2626, 3.3030, 3.3434, 3.3838, 3.4242, 3.4646, 3.5051,\n",
              "        3.5455, 3.5859, 3.6263, 3.6667, 3.7071, 3.7475, 3.7879, 3.8283, 3.8687,\n",
              "        3.9091, 3.9495, 3.9899, 4.0303, 4.0707, 4.1111, 4.1515, 4.1919, 4.2323,\n",
              "        4.2727, 4.3131, 4.3535, 4.3939, 4.4343, 4.4747, 4.5152, 4.5556, 4.5960,\n",
              "        4.6364, 4.6768, 4.7172, 4.7576, 4.7980, 4.8384, 4.8788, 4.9192, 4.9596,\n",
              "        5.0000])"
            ]
          },
          "metadata": {
            "tags": []
          },
          "execution_count": 4
        }
      ]
    },
    {
      "cell_type": "code",
      "metadata": {
        "id": "FRIwvP1mMUDz",
        "outputId": "db1cfb7e-d716-4903-d77b-1974c04c4a6c"
      },
      "source": [
        "# with step parameter\n",
        "torch.linspace(start = 1 , end = 5 , steps = 2)"
      ],
      "execution_count": null,
      "outputs": [
        {
          "output_type": "execute_result",
          "data": {
            "text/plain": [
              "tensor([1., 5.])"
            ]
          },
          "metadata": {
            "tags": []
          },
          "execution_count": 5
        }
      ]
    },
    {
      "cell_type": "markdown",
      "metadata": {
        "id": "3zY3-N49MUDz"
      },
      "source": [
        "### Function 2 - torch.eye\n",
        "\n",
        "torch.eye returns a 2D tensor with the values of diagonals as 1 and other values as 0.\n",
        "The function expects two parameters — n and m .(If m is not specified, then it returns a 2D tensor of size n*n)"
      ]
    },
    {
      "cell_type": "code",
      "metadata": {
        "id": "3VVnrT5LMUDz",
        "outputId": "30679ab2-9df3-4b3d-da11-a5007806a8bf"
      },
      "source": [
        "torch.eye(n=3, m=4)"
      ],
      "execution_count": null,
      "outputs": [
        {
          "output_type": "execute_result",
          "data": {
            "text/plain": [
              "tensor([[1., 0., 0., 0.],\n",
              "        [0., 1., 0., 0.],\n",
              "        [0., 0., 1., 0.]])"
            ]
          },
          "metadata": {
            "tags": []
          },
          "execution_count": 6
        }
      ]
    },
    {
      "cell_type": "code",
      "metadata": {
        "id": "ylBu1asUMUD0",
        "outputId": "0fbe788b-adbe-4a07-d6d8-5b69d08b2970"
      },
      "source": [
        "#if m not specified then it will give n*n tensor\n",
        "torch.eye(n=3)"
      ],
      "execution_count": null,
      "outputs": [
        {
          "output_type": "execute_result",
          "data": {
            "text/plain": [
              "tensor([[1., 0., 0.],\n",
              "        [0., 1., 0.],\n",
              "        [0., 0., 1.]])"
            ]
          },
          "metadata": {
            "tags": []
          },
          "execution_count": 7
        }
      ]
    },
    {
      "cell_type": "markdown",
      "metadata": {
        "id": "eKeJHNIBMUD0"
      },
      "source": [
        "### Function 3 - torch.full\n",
        "\n",
        "torch.full returns a tensor of size mentioned in the function with the values filled with fill_value \n",
        "The size can be a list or a tuple."
      ]
    },
    {
      "cell_type": "code",
      "metadata": {
        "id": "YtABUC7WMUD0",
        "outputId": "7f49cb87-552b-4021-bc26-cbb491a0e5bd"
      },
      "source": [
        "# size is tuple\n",
        "torch.full(size=(3,2), fill_value=10)"
      ],
      "execution_count": null,
      "outputs": [
        {
          "output_type": "execute_result",
          "data": {
            "text/plain": [
              "tensor([[10., 10.],\n",
              "        [10., 10.],\n",
              "        [10., 10.]])"
            ]
          },
          "metadata": {
            "tags": []
          },
          "execution_count": 11
        }
      ]
    },
    {
      "cell_type": "code",
      "metadata": {
        "id": "SZXEgjbHMUD0",
        "outputId": "0a357c90-7792-45fe-8a1d-e9bfbf297c2a"
      },
      "source": [
        "#size is list\n",
        "torch.full(size=[2, 3, 4], fill_value=5)"
      ],
      "execution_count": null,
      "outputs": [
        {
          "output_type": "execute_result",
          "data": {
            "text/plain": [
              "tensor([[[5., 5., 5., 5.],\n",
              "         [5., 5., 5., 5.],\n",
              "         [5., 5., 5., 5.]],\n",
              "\n",
              "        [[5., 5., 5., 5.],\n",
              "         [5., 5., 5., 5.],\n",
              "         [5., 5., 5., 5.]]])"
            ]
          },
          "metadata": {
            "tags": []
          },
          "execution_count": 12
        }
      ]
    },
    {
      "cell_type": "markdown",
      "metadata": {
        "id": "gWnQDBkIMUD0"
      },
      "source": [
        "### Function 4 - torch.one\n",
        "\n",
        "torch.one returns a Tensor of size *size filled with 1. By default, the returned Tensor has the same torch.dtype and torch.device as this tensor."
      ]
    },
    {
      "cell_type": "code",
      "metadata": {
        "id": "gVxErLgHMUD0",
        "outputId": "4b32d113-9692-45d4-ec6c-ebbbf34c4a2f"
      },
      "source": [
        "#Construct a matrix filled ones and of dtype long:\n",
        "a = torch.ones(4,3, dtype=torch.long)\n",
        "a"
      ],
      "execution_count": null,
      "outputs": [
        {
          "output_type": "execute_result",
          "data": {
            "text/plain": [
              "tensor([[1, 1, 1],\n",
              "        [1, 1, 1],\n",
              "        [1, 1, 1],\n",
              "        [1, 1, 1]])"
            ]
          },
          "metadata": {
            "tags": []
          },
          "execution_count": 20
        }
      ]
    },
    {
      "cell_type": "markdown",
      "metadata": {
        "id": "Pu72x0z7MUD0"
      },
      "source": [
        "### Function 5 - torch.new_ones\n",
        "\n",
        "torch.new_ones works with existing tensor. x will inherit the datatype from a and it will run on same device as defined in a.(By default it will run on CPU)"
      ]
    },
    {
      "cell_type": "code",
      "metadata": {
        "id": "vuROi4JJMUD0",
        "outputId": "7770b753-8dad-4a09-df6f-736f5b4924d2"
      },
      "source": [
        "# new methods take in sizes. Also data type changed from long to double\n",
        "x = a.new_ones(6,5, dtype=torch.double)\n",
        "b"
      ],
      "execution_count": null,
      "outputs": [
        {
          "output_type": "execute_result",
          "data": {
            "text/plain": [
              "tensor([[1., 1., 1., 1., 1.],\n",
              "        [1., 1., 1., 1., 1.],\n",
              "        [1., 1., 1., 1., 1.],\n",
              "        [1., 1., 1., 1., 1.],\n",
              "        [1., 1., 1., 1., 1.],\n",
              "        [1., 1., 1., 1., 1.]], dtype=torch.float64)"
            ]
          },
          "metadata": {
            "tags": []
          },
          "execution_count": 22
        }
      ]
    },
    {
      "cell_type": "markdown",
      "metadata": {
        "id": "DDM0y_y4MUD0"
      },
      "source": [
        "### Function 6 - torch.zeros\n",
        "\n",
        "torch.one returns a Tensor of size *size filled with 0. By default, the returned Tensor has the same torch.dtype and torch.device as this tensor."
      ]
    },
    {
      "cell_type": "code",
      "metadata": {
        "id": "glL-K_DxMUD0",
        "outputId": "660c9b70-42ab-4735-903c-b8e1d662e4a1"
      },
      "source": [
        "#Construct a matrix filled zeros and of dtype long:\n",
        "b = torch.zeros(4,3, dtype=torch.long)\n",
        "b"
      ],
      "execution_count": null,
      "outputs": [
        {
          "output_type": "execute_result",
          "data": {
            "text/plain": [
              "tensor([[0, 0, 0],\n",
              "        [0, 0, 0],\n",
              "        [0, 0, 0],\n",
              "        [0, 0, 0]])"
            ]
          },
          "metadata": {
            "tags": []
          },
          "execution_count": 24
        }
      ]
    },
    {
      "cell_type": "markdown",
      "metadata": {
        "id": "2FwpLh56MUD0"
      },
      "source": [
        "### Function 7 - torch.cat\n",
        "\n",
        "torch.cat concatenates a sequence of tensors over the specified dimension dim. \n",
        "**Note: All the tensors must be of the same shape"
      ]
    },
    {
      "cell_type": "code",
      "metadata": {
        "id": "xVA-v9_BMUD0",
        "outputId": "c7884a73-dd2c-4fa8-eb7f-14a0f2a4eda1"
      },
      "source": [
        "a = torch.ones(3,2)\n",
        "b = torch.zeros(3,2)\n",
        "torch.cat((a, b)) # default dim=0"
      ],
      "execution_count": null,
      "outputs": [
        {
          "output_type": "execute_result",
          "data": {
            "text/plain": [
              "tensor([[1., 1.],\n",
              "        [1., 1.],\n",
              "        [1., 1.],\n",
              "        [0., 0.],\n",
              "        [0., 0.],\n",
              "        [0., 0.]])"
            ]
          },
          "metadata": {
            "tags": []
          },
          "execution_count": 25
        }
      ]
    },
    {
      "cell_type": "code",
      "metadata": {
        "id": "F2vCmic3MUD0",
        "outputId": "eb5bcdff-46ce-4059-f842-123d59060b14"
      },
      "source": [
        "# if we want to filled with other number we can use the full function and then cat both the tensors\n",
        "x = torch.full((3,3), fill_value=4)\n",
        "y = torch.full((3,3), fill_value=7)\n",
        "torch.cat((x, y), dim=1)"
      ],
      "execution_count": null,
      "outputs": [
        {
          "output_type": "execute_result",
          "data": {
            "text/plain": [
              "tensor([[4., 4., 4., 7., 7., 7.],\n",
              "        [4., 4., 4., 7., 7., 7.],\n",
              "        [4., 4., 4., 7., 7., 7.]])"
            ]
          },
          "metadata": {
            "tags": []
          },
          "execution_count": 26
        }
      ]
    },
    {
      "cell_type": "markdown",
      "metadata": {
        "id": "358jNt0_MUD0"
      },
      "source": [
        "### Function 8: torch.take\n",
        "\n",
        "torch.take returns a tensor with the elements of the input tensors at the given indices. The input tensor is treated as a 1D tensor to return the values."
      ]
    },
    {
      "cell_type": "code",
      "metadata": {
        "id": "AoWbM2YZMUD0",
        "outputId": "019889c1-607f-4d76-a4a3-7d6906a4d18c"
      },
      "source": [
        "# 1D input Tensor\n",
        "t1 = torch.tensor([10, 20, 30, 40, 50])\n",
        "torch.take(t1, torch.tensor([2]))"
      ],
      "execution_count": null,
      "outputs": [
        {
          "output_type": "execute_result",
          "data": {
            "text/plain": [
              "tensor([30])"
            ]
          },
          "metadata": {
            "tags": []
          },
          "execution_count": 6
        }
      ]
    },
    {
      "cell_type": "code",
      "metadata": {
        "id": "O9bdrSjUMUD0",
        "outputId": "83a36fe7-688b-4d73-bde6-3b6d9c702927"
      },
      "source": [
        "# 2D input tensor\n",
        "t2 = torch.tensor([[1, 2, 3],\n",
        "                  [4, 5, 6]])\n",
        "torch.take(t2, torch.tensor([3,4]))"
      ],
      "execution_count": null,
      "outputs": [
        {
          "output_type": "execute_result",
          "data": {
            "text/plain": [
              "tensor([4, 5])"
            ]
          },
          "metadata": {
            "tags": []
          },
          "execution_count": 7
        }
      ]
    },
    {
      "cell_type": "markdown",
      "metadata": {
        "id": "25T498_zMUD1"
      },
      "source": [
        "### Function 9: torch.unbind\n",
        "\n",
        "torch.unbind removes a tensor dimension along the given dimension *dim.\n",
        "The default dimension is 0 i.e. dim=0"
      ]
    },
    {
      "cell_type": "code",
      "metadata": {
        "id": "Akp1pms4MUD1",
        "outputId": "f0833a74-1d70-48a9-d96a-5a7238c6c701"
      },
      "source": [
        "ub1 = torch.tensor([[1, 2, 3],\n",
        "                  [4, 5, 6]])\n",
        "torch.unbind(ub1)"
      ],
      "execution_count": null,
      "outputs": [
        {
          "output_type": "execute_result",
          "data": {
            "text/plain": [
              "(tensor([1, 2, 3]), tensor([4, 5, 6]))"
            ]
          },
          "metadata": {
            "tags": []
          },
          "execution_count": 5
        }
      ]
    },
    {
      "cell_type": "code",
      "metadata": {
        "id": "SkjdFE0hMUD1",
        "outputId": "6f04f932-548c-429f-82d3-31b8c7f98503"
      },
      "source": [
        "ub2 = torch.tensor([[1, 2, 3],\n",
        "                  [4, 5, 6]])\n",
        "torch.unbind(ub2, dim=1)"
      ],
      "execution_count": null,
      "outputs": [
        {
          "output_type": "execute_result",
          "data": {
            "text/plain": [
              "(tensor([1, 4]), tensor([2, 5]), tensor([3, 6]))"
            ]
          },
          "metadata": {
            "tags": []
          },
          "execution_count": 10
        }
      ]
    },
    {
      "cell_type": "markdown",
      "metadata": {
        "id": "H__hX4iVMUD1"
      },
      "source": [
        "### Function 7: torch.Tensor.clone\n",
        "\n",
        "torch.Tensor.clone returns a copy of the tensor with the same size and data type.\n",
        "**Note: When we create a copy of the tensor using x=y , changing one variable also affects the other variable since it points to the same memory location."
      ]
    },
    {
      "cell_type": "code",
      "metadata": {
        "id": "qfvSUXtdMUD1",
        "outputId": "1f3e620e-a347-485e-f58c-491ba2886bf0"
      },
      "source": [
        "tc1 = torch.tensor([[1., 2.],\n",
        "                  [3., 4.],\n",
        "                  [5., 6.]])\n",
        "# Assign the tc1 tensor to tc2\n",
        "tc2 = tc1\n",
        "#Lets change the value in the matrix and we can see the same value update in tc2 as well\n",
        "tc1[1,0]=9\n",
        "tc1,tc2"
      ],
      "execution_count": null,
      "outputs": [
        {
          "output_type": "execute_result",
          "data": {
            "text/plain": [
              "(tensor([[1., 2.],\n",
              "         [9., 4.],\n",
              "         [5., 6.]]),\n",
              " tensor([[1., 2.],\n",
              "         [9., 4.],\n",
              "         [5., 6.]]))"
            ]
          },
          "metadata": {
            "tags": []
          },
          "execution_count": 17
        }
      ]
    },
    {
      "cell_type": "code",
      "metadata": {
        "id": "zSJTj-kwMUD1",
        "outputId": "6f427f4d-2ff5-4061-963a-7fcf94e72cfa"
      },
      "source": [
        "#To avoid this, we can create a deepcopy of the tensor using .clone method.\n",
        "tc1 = torch.tensor([[1., 2.],\n",
        "                  [3., 4.],\n",
        "                  [5., 6.]])\n",
        "tc2 = tc1.clone()\n",
        "tc1[1,0]=9\n",
        "tc1,tc2"
      ],
      "execution_count": null,
      "outputs": [
        {
          "output_type": "execute_result",
          "data": {
            "text/plain": [
              "(tensor([[1., 2.],\n",
              "         [9., 4.],\n",
              "         [5., 6.]]),\n",
              " tensor([[1., 2.],\n",
              "         [3., 4.],\n",
              "         [5., 6.]]))"
            ]
          },
          "metadata": {
            "tags": []
          },
          "execution_count": 16
        }
      ]
    },
    {
      "cell_type": "markdown",
      "metadata": {
        "id": "JsmNtli6MUD1"
      },
      "source": [
        "### Commit and upload the notebook\n",
        "As a final step, we can save and commit out work using the jovian library."
      ]
    },
    {
      "cell_type": "code",
      "metadata": {
        "id": "7obr82GKMUD1"
      },
      "source": [
        "!pip install jovian --upgrade --quiet"
      ],
      "execution_count": null,
      "outputs": []
    },
    {
      "cell_type": "code",
      "metadata": {
        "id": "EWj6TpyVMUD1",
        "outputId": "a1d400a9-3dd9-4382-edd4-30b057de90f7"
      },
      "source": [
        "import jovian"
      ],
      "execution_count": null,
      "outputs": [
        {
          "output_type": "display_data",
          "data": {
            "application/javascript": [
              "if (window.IPython && IPython.notebook.kernel) IPython.notebook.kernel.execute('jovian.utils.jupyter.get_notebook_name_saved = lambda: \"' + IPython.notebook.notebook_name + '\"')"
            ],
            "text/plain": [
              "<IPython.core.display.Javascript object>"
            ]
          },
          "metadata": {
            "tags": []
          }
        }
      ]
    },
    {
      "cell_type": "code",
      "metadata": {
        "id": "6MUHBuQcMUD1",
        "outputId": "8c274d4d-85a4-48d6-eda6-a70e1cfe3c86"
      },
      "source": [
        "jovian.commit()"
      ],
      "execution_count": null,
      "outputs": [
        {
          "output_type": "display_data",
          "data": {
            "application/javascript": [
              "window.require && require([\"base/js/namespace\"],function(Jupyter){Jupyter.notebook.save_checkpoint()})"
            ],
            "text/plain": [
              "<IPython.core.display.Javascript object>"
            ]
          },
          "metadata": {
            "tags": []
          }
        },
        {
          "output_type": "stream",
          "text": [
            "[jovian] Attempting to save notebook..\r\n"
          ],
          "name": "stdout"
        }
      ]
    }
  ]
}